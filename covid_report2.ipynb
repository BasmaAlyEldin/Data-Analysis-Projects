{
 "cells": [
  {
   "cell_type": "code",
   "execution_count": 2,
   "id": "f7780dcd",
   "metadata": {},
   "outputs": [],
   "source": [
    "import numpy as np\n",
    "import pandas as pd\n",
    "import seaborn as sn\n",
    "import matplotlib.pyplot as plt "
   ]
  },
  {
   "cell_type": "code",
   "execution_count": 3,
   "id": "43e7f102",
   "metadata": {},
   "outputs": [
    {
     "data": {
      "text/html": [
       "<div>\n",
       "<style scoped>\n",
       "    .dataframe tbody tr th:only-of-type {\n",
       "        vertical-align: middle;\n",
       "    }\n",
       "\n",
       "    .dataframe tbody tr th {\n",
       "        vertical-align: top;\n",
       "    }\n",
       "\n",
       "    .dataframe thead th {\n",
       "        text-align: right;\n",
       "    }\n",
       "</style>\n",
       "<table border=\"1\" class=\"dataframe\">\n",
       "  <thead>\n",
       "    <tr style=\"text-align: right;\">\n",
       "      <th></th>\n",
       "      <th>location</th>\n",
       "      <th>date</th>\n",
       "      <th>new_cases</th>\n",
       "      <th>new_deaths</th>\n",
       "      <th>population</th>\n",
       "      <th>aged_65_older_percent</th>\n",
       "      <th>gdp_per_capita</th>\n",
       "      <th>hospital_beds_per_thousand</th>\n",
       "    </tr>\n",
       "  </thead>\n",
       "  <tbody>\n",
       "    <tr>\n",
       "      <th>0</th>\n",
       "      <td>Afghanistan</td>\n",
       "      <td>2019-12-31</td>\n",
       "      <td>0</td>\n",
       "      <td>0</td>\n",
       "      <td>38928341.0</td>\n",
       "      <td>2.581</td>\n",
       "      <td>1803.987</td>\n",
       "      <td>0.5</td>\n",
       "    </tr>\n",
       "    <tr>\n",
       "      <th>1</th>\n",
       "      <td>Afghanistan</td>\n",
       "      <td>2020-01-01</td>\n",
       "      <td>0</td>\n",
       "      <td>0</td>\n",
       "      <td>38928341.0</td>\n",
       "      <td>2.581</td>\n",
       "      <td>1803.987</td>\n",
       "      <td>0.5</td>\n",
       "    </tr>\n",
       "    <tr>\n",
       "      <th>2</th>\n",
       "      <td>Afghanistan</td>\n",
       "      <td>2020-01-02</td>\n",
       "      <td>0</td>\n",
       "      <td>0</td>\n",
       "      <td>38928341.0</td>\n",
       "      <td>2.581</td>\n",
       "      <td>1803.987</td>\n",
       "      <td>0.5</td>\n",
       "    </tr>\n",
       "    <tr>\n",
       "      <th>3</th>\n",
       "      <td>Afghanistan</td>\n",
       "      <td>2020-01-03</td>\n",
       "      <td>0</td>\n",
       "      <td>0</td>\n",
       "      <td>38928341.0</td>\n",
       "      <td>2.581</td>\n",
       "      <td>1803.987</td>\n",
       "      <td>0.5</td>\n",
       "    </tr>\n",
       "    <tr>\n",
       "      <th>4</th>\n",
       "      <td>Afghanistan</td>\n",
       "      <td>2020-01-04</td>\n",
       "      <td>0</td>\n",
       "      <td>0</td>\n",
       "      <td>38928341.0</td>\n",
       "      <td>2.581</td>\n",
       "      <td>1803.987</td>\n",
       "      <td>0.5</td>\n",
       "    </tr>\n",
       "    <tr>\n",
       "      <th>...</th>\n",
       "      <td>...</td>\n",
       "      <td>...</td>\n",
       "      <td>...</td>\n",
       "      <td>...</td>\n",
       "      <td>...</td>\n",
       "      <td>...</td>\n",
       "      <td>...</td>\n",
       "      <td>...</td>\n",
       "    </tr>\n",
       "    <tr>\n",
       "      <th>23077</th>\n",
       "      <td>International</td>\n",
       "      <td>2020-02-28</td>\n",
       "      <td>0</td>\n",
       "      <td>0</td>\n",
       "      <td>NaN</td>\n",
       "      <td>NaN</td>\n",
       "      <td>NaN</td>\n",
       "      <td>NaN</td>\n",
       "    </tr>\n",
       "    <tr>\n",
       "      <th>23078</th>\n",
       "      <td>International</td>\n",
       "      <td>2020-02-29</td>\n",
       "      <td>0</td>\n",
       "      <td>2</td>\n",
       "      <td>NaN</td>\n",
       "      <td>NaN</td>\n",
       "      <td>NaN</td>\n",
       "      <td>NaN</td>\n",
       "    </tr>\n",
       "    <tr>\n",
       "      <th>23079</th>\n",
       "      <td>International</td>\n",
       "      <td>2020-03-01</td>\n",
       "      <td>0</td>\n",
       "      <td>0</td>\n",
       "      <td>NaN</td>\n",
       "      <td>NaN</td>\n",
       "      <td>NaN</td>\n",
       "      <td>NaN</td>\n",
       "    </tr>\n",
       "    <tr>\n",
       "      <th>23080</th>\n",
       "      <td>International</td>\n",
       "      <td>2020-03-02</td>\n",
       "      <td>0</td>\n",
       "      <td>0</td>\n",
       "      <td>NaN</td>\n",
       "      <td>NaN</td>\n",
       "      <td>NaN</td>\n",
       "      <td>NaN</td>\n",
       "    </tr>\n",
       "    <tr>\n",
       "      <th>23081</th>\n",
       "      <td>International</td>\n",
       "      <td>2020-03-10</td>\n",
       "      <td>-9</td>\n",
       "      <td>1</td>\n",
       "      <td>NaN</td>\n",
       "      <td>NaN</td>\n",
       "      <td>NaN</td>\n",
       "      <td>NaN</td>\n",
       "    </tr>\n",
       "  </tbody>\n",
       "</table>\n",
       "<p>23082 rows × 8 columns</p>\n",
       "</div>"
      ],
      "text/plain": [
       "            location       date  new_cases  new_deaths  population  \\\n",
       "0        Afghanistan 2019-12-31          0           0  38928341.0   \n",
       "1        Afghanistan 2020-01-01          0           0  38928341.0   \n",
       "2        Afghanistan 2020-01-02          0           0  38928341.0   \n",
       "3        Afghanistan 2020-01-03          0           0  38928341.0   \n",
       "4        Afghanistan 2020-01-04          0           0  38928341.0   \n",
       "...              ...        ...        ...         ...         ...   \n",
       "23077  International 2020-02-28          0           0         NaN   \n",
       "23078  International 2020-02-29          0           2         NaN   \n",
       "23079  International 2020-03-01          0           0         NaN   \n",
       "23080  International 2020-03-02          0           0         NaN   \n",
       "23081  International 2020-03-10         -9           1         NaN   \n",
       "\n",
       "       aged_65_older_percent  gdp_per_capita  hospital_beds_per_thousand  \n",
       "0                      2.581        1803.987                         0.5  \n",
       "1                      2.581        1803.987                         0.5  \n",
       "2                      2.581        1803.987                         0.5  \n",
       "3                      2.581        1803.987                         0.5  \n",
       "4                      2.581        1803.987                         0.5  \n",
       "...                      ...             ...                         ...  \n",
       "23077                    NaN             NaN                         NaN  \n",
       "23078                    NaN             NaN                         NaN  \n",
       "23079                    NaN             NaN                         NaN  \n",
       "23080                    NaN             NaN                         NaN  \n",
       "23081                    NaN             NaN                         NaN  \n",
       "\n",
       "[23082 rows x 8 columns]"
      ]
     },
     "execution_count": 3,
     "metadata": {},
     "output_type": "execute_result"
    }
   ],
   "source": [
    "file_path=(\"D:/Excel_Project/covid/covid_data_excel.xlsx\")\n",
    "df=pd.DataFrame()\n",
    "df=pd.read_excel(file_path)\n",
    "df"
   ]
  },
  {
   "cell_type": "code",
   "execution_count": 5,
   "id": "08dc8e0b",
   "metadata": {},
   "outputs": [
    {
     "name": "stdout",
     "output_type": "stream",
     "text": [
      "<class 'pandas.core.frame.DataFrame'>\n",
      "RangeIndex: 23082 entries, 0 to 23081\n",
      "Data columns (total 8 columns):\n",
      " #   Column                      Non-Null Count  Dtype         \n",
      "---  ------                      --------------  -----         \n",
      " 0   location                    23082 non-null  object        \n",
      " 1   date                        23082 non-null  datetime64[ns]\n",
      " 2   new_cases                   23082 non-null  int64         \n",
      " 3   new_deaths                  23082 non-null  int64         \n",
      " 4   population                  23018 non-null  float64       \n",
      " 5   aged_65_older_percent       20643 non-null  float64       \n",
      " 6   gdp_per_capita              20711 non-null  float64       \n",
      " 7   hospital_beds_per_thousand  19144 non-null  float64       \n",
      "dtypes: datetime64[ns](1), float64(4), int64(2), object(1)\n",
      "memory usage: 1.4+ MB\n"
     ]
    }
   ],
   "source": [
    "df.info()"
   ]
  },
  {
   "cell_type": "code",
   "execution_count": 8,
   "id": "cb6b81c0",
   "metadata": {},
   "outputs": [
    {
     "data": {
      "text/plain": [
       "location                         0\n",
       "date                             0\n",
       "new_cases                        0\n",
       "new_deaths                       0\n",
       "population                      64\n",
       "aged_65_older_percent         2439\n",
       "gdp_per_capita                2371\n",
       "hospital_beds_per_thousand    3938\n",
       "dtype: int64"
      ]
     },
     "execution_count": 8,
     "metadata": {},
     "output_type": "execute_result"
    }
   ],
   "source": [
    "df.isna().sum()"
   ]
  },
  {
   "cell_type": "code",
   "execution_count": 3,
   "id": "ea3ece50",
   "metadata": {},
   "outputs": [
    {
     "data": {
      "text/plain": [
       "0"
      ]
     },
     "execution_count": 3,
     "metadata": {},
     "output_type": "execute_result"
    }
   ],
   "source": [
    "df.duplicated().sum()"
   ]
  },
  {
   "cell_type": "code",
   "execution_count": 6,
   "id": "f603d12f",
   "metadata": {},
   "outputs": [
    {
     "data": {
      "text/plain": [
       "array(['Afghanistan', 'Albania', 'Algeria', 'Andorra', 'Angola',\n",
       "       'Anguilla', 'Antigua and Barbuda', 'Argentina', 'Armenia', 'Aruba',\n",
       "       'Australia', 'Austria', 'Azerbaijan', 'Bahamas', 'Bahrain',\n",
       "       'Bangladesh', 'Barbados', 'Belarus', 'Belgium', 'Belize', 'Benin',\n",
       "       'Bermuda', 'Bhutan', 'Bolivia', 'Bonaire Sint Eustatius and Saba',\n",
       "       'Bosnia and Herzegovina', 'Botswana', 'Brazil',\n",
       "       'British Virgin Islands', 'Brunei', 'Bulgaria', 'Burkina Faso',\n",
       "       'Burundi', 'Cambodia', 'Cameroon', 'Canada', 'Cape Verde',\n",
       "       'Cayman Islands', 'Central African Republic', 'Chad', 'Chile',\n",
       "       'China', 'Colombia', 'Comoros', 'Congo', 'Costa Rica',\n",
       "       \"Cote d'Ivoire\", 'Croatia', 'Cuba', 'Curacao', 'Cyprus',\n",
       "       'Czech Republic', 'Democratic Republic of Congo', 'Denmark',\n",
       "       'Djibouti', 'Dominica', 'Dominican Republic', 'Ecuador', 'Egypt',\n",
       "       'El Salvador', 'Equatorial Guinea', 'Eritrea', 'Estonia',\n",
       "       'Ethiopia', 'Faeroe Islands', 'Falkland Islands', 'Fiji',\n",
       "       'Finland', 'France', 'French Polynesia', 'Gabon', 'Gambia',\n",
       "       'Georgia', 'Germany', 'Ghana', 'Gibraltar', 'Greece', 'Greenland',\n",
       "       'Grenada', 'Guam', 'Guatemala', 'Guernsey', 'Guinea',\n",
       "       'Guinea-Bissau', 'Guyana', 'Haiti', 'Honduras', 'Hong Kong',\n",
       "       'Hungary', 'Iceland', 'India', 'Indonesia', 'Iran', 'Iraq',\n",
       "       'Ireland', 'Isle of Man', 'Israel', 'Italy', 'Jamaica', 'Japan',\n",
       "       'Jersey', 'Jordan', 'Kazakhstan', 'Kenya', 'Kosovo', 'Kuwait',\n",
       "       'Kyrgyzstan', 'Laos', 'Latvia', 'Lebanon', 'Lesotho', 'Liberia',\n",
       "       'Libya', 'Liechtenstein', 'Lithuania', 'Luxembourg', 'Macedonia',\n",
       "       'Madagascar', 'Malawi', 'Malaysia', 'Maldives', 'Mali', 'Malta',\n",
       "       'Mauritania', 'Mauritius', 'Mexico', 'Moldova', 'Monaco',\n",
       "       'Mongolia', 'Montenegro', 'Montserrat', 'Morocco', 'Mozambique',\n",
       "       'Myanmar', 'Namibia', 'Nepal', 'Netherlands', 'New Caledonia',\n",
       "       'New Zealand', 'Nicaragua', 'Niger', 'Nigeria',\n",
       "       'Northern Mariana Islands', 'Norway', 'Oman', 'Pakistan',\n",
       "       'Palestine', 'Panama', 'Papua New Guinea', 'Paraguay', 'Peru',\n",
       "       'Philippines', 'Poland', 'Portugal', 'Puerto Rico', 'Qatar',\n",
       "       'Romania', 'Russia', 'Rwanda', 'Saint Kitts and Nevis',\n",
       "       'Saint Lucia', 'Saint Vincent and the Grenadines', 'San Marino',\n",
       "       'Sao Tome and Principe', 'Saudi Arabia', 'Senegal', 'Serbia',\n",
       "       'Seychelles', 'Sierra Leone', 'Singapore',\n",
       "       'Sint Maarten (Dutch part)', 'Slovakia', 'Slovenia', 'Somalia',\n",
       "       'South Africa', 'South Korea', 'South Sudan', 'Spain', 'Sri Lanka',\n",
       "       'Sudan', 'Suriname', 'Swaziland', 'Sweden', 'Switzerland', 'Syria',\n",
       "       'Taiwan', 'Tajikistan', 'Tanzania', 'Thailand', 'Timor', 'Togo',\n",
       "       'Trinidad and Tobago', 'Tunisia', 'Turkey',\n",
       "       'Turks and Caicos Islands', 'Uganda', 'Ukraine',\n",
       "       'United Arab Emirates', 'United Kingdom', 'United States',\n",
       "       'United States Virgin Islands', 'Uruguay', 'Uzbekistan', 'Vatican',\n",
       "       'Venezuela', 'Vietnam', 'Western Sahara', 'Yemen', 'Zambia',\n",
       "       'Zimbabwe', 'World', 'International'], dtype=object)"
      ]
     },
     "execution_count": 6,
     "metadata": {},
     "output_type": "execute_result"
    }
   ],
   "source": [
    "df['location'].unique()"
   ]
  },
  {
   "cell_type": "code",
   "execution_count": 9,
   "id": "883397bd",
   "metadata": {},
   "outputs": [
    {
     "data": {
      "text/html": [
       "<div>\n",
       "<style scoped>\n",
       "    .dataframe tbody tr th:only-of-type {\n",
       "        vertical-align: middle;\n",
       "    }\n",
       "\n",
       "    .dataframe tbody tr th {\n",
       "        vertical-align: top;\n",
       "    }\n",
       "\n",
       "    .dataframe thead th {\n",
       "        text-align: right;\n",
       "    }\n",
       "</style>\n",
       "<table border=\"1\" class=\"dataframe\">\n",
       "  <thead>\n",
       "    <tr style=\"text-align: right;\">\n",
       "      <th></th>\n",
       "      <th>new_cases</th>\n",
       "      <th>new_deaths</th>\n",
       "      <th>population</th>\n",
       "      <th>hospital_beds_per_thousand</th>\n",
       "      <th>aged_65_older_percent</th>\n",
       "    </tr>\n",
       "  </thead>\n",
       "  <tbody>\n",
       "    <tr>\n",
       "      <th>count</th>\n",
       "      <td>23082.0</td>\n",
       "      <td>23082.0</td>\n",
       "      <td>2.301800e+04</td>\n",
       "      <td>19144.0</td>\n",
       "      <td>20643.0</td>\n",
       "    </tr>\n",
       "    <tr>\n",
       "      <th>mean</th>\n",
       "      <td>625.0</td>\n",
       "      <td>36.0</td>\n",
       "      <td>1.037003e+08</td>\n",
       "      <td>3.0</td>\n",
       "      <td>10.0</td>\n",
       "    </tr>\n",
       "    <tr>\n",
       "      <th>std</th>\n",
       "      <td>5517.0</td>\n",
       "      <td>331.0</td>\n",
       "      <td>6.716897e+08</td>\n",
       "      <td>3.0</td>\n",
       "      <td>6.0</td>\n",
       "    </tr>\n",
       "    <tr>\n",
       "      <th>min</th>\n",
       "      <td>-2461.0</td>\n",
       "      <td>-1918.0</td>\n",
       "      <td>8.090000e+02</td>\n",
       "      <td>0.0</td>\n",
       "      <td>1.0</td>\n",
       "    </tr>\n",
       "    <tr>\n",
       "      <th>25%</th>\n",
       "      <td>0.0</td>\n",
       "      <td>0.0</td>\n",
       "      <td>2.083380e+06</td>\n",
       "      <td>1.0</td>\n",
       "      <td>4.0</td>\n",
       "    </tr>\n",
       "    <tr>\n",
       "      <th>50%</th>\n",
       "      <td>3.0</td>\n",
       "      <td>0.0</td>\n",
       "      <td>9.449321e+06</td>\n",
       "      <td>3.0</td>\n",
       "      <td>8.0</td>\n",
       "    </tr>\n",
       "    <tr>\n",
       "      <th>75%</th>\n",
       "      <td>55.0</td>\n",
       "      <td>1.0</td>\n",
       "      <td>3.346920e+07</td>\n",
       "      <td>4.0</td>\n",
       "      <td>15.0</td>\n",
       "    </tr>\n",
       "    <tr>\n",
       "      <th>max</th>\n",
       "      <td>133510.0</td>\n",
       "      <td>10520.0</td>\n",
       "      <td>7.794799e+09</td>\n",
       "      <td>14.0</td>\n",
       "      <td>27.0</td>\n",
       "    </tr>\n",
       "  </tbody>\n",
       "</table>\n",
       "</div>"
      ],
      "text/plain": [
       "       new_cases  new_deaths    population  hospital_beds_per_thousand  \\\n",
       "count    23082.0     23082.0  2.301800e+04                     19144.0   \n",
       "mean       625.0        36.0  1.037003e+08                         3.0   \n",
       "std       5517.0       331.0  6.716897e+08                         3.0   \n",
       "min      -2461.0     -1918.0  8.090000e+02                         0.0   \n",
       "25%          0.0         0.0  2.083380e+06                         1.0   \n",
       "50%          3.0         0.0  9.449321e+06                         3.0   \n",
       "75%         55.0         1.0  3.346920e+07                         4.0   \n",
       "max     133510.0     10520.0  7.794799e+09                        14.0   \n",
       "\n",
       "       aged_65_older_percent  \n",
       "count                20643.0  \n",
       "mean                    10.0  \n",
       "std                      6.0  \n",
       "min                      1.0  \n",
       "25%                      4.0  \n",
       "50%                      8.0  \n",
       "75%                     15.0  \n",
       "max                     27.0  "
      ]
     },
     "execution_count": 9,
     "metadata": {},
     "output_type": "execute_result"
    }
   ],
   "source": [
    "df[['new_cases','new_deaths','population','hospital_beds_per_thousand','aged_65_older_percent']].describe().round()"
   ]
  },
  {
   "cell_type": "code",
   "execution_count": 40,
   "id": "5a086c7d",
   "metadata": {},
   "outputs": [],
   "source": [
    "df['hospital_beds_per_thousand']=df['hospital_beds_per_thousand'].fillna(0)"
   ]
  },
  {
   "cell_type": "code",
   "execution_count": 38,
   "id": "429bd6b6",
   "metadata": {},
   "outputs": [],
   "source": [
    "df['aged_65_older_percent']=df['aged_65_older_percent'].fillna(1.0)"
   ]
  },
  {
   "cell_type": "code",
   "execution_count": 39,
   "id": "0632b975",
   "metadata": {},
   "outputs": [
    {
     "data": {
      "text/plain": [
       "0"
      ]
     },
     "execution_count": 39,
     "metadata": {},
     "output_type": "execute_result"
    }
   ],
   "source": [
    "df['aged_65_older_percent'].isna().sum()"
   ]
  },
  {
   "cell_type": "code",
   "execution_count": 12,
   "id": "75e4d3ff",
   "metadata": {},
   "outputs": [
    {
     "data": {
      "text/plain": [
       "64"
      ]
     },
     "execution_count": 12,
     "metadata": {},
     "output_type": "execute_result"
    }
   ],
   "source": [
    "df['population'].isna().sum()"
   ]
  },
  {
   "cell_type": "code",
   "execution_count": 5,
   "id": "95d5e820",
   "metadata": {},
   "outputs": [],
   "source": [
    "df = df.drop(df[df['population'].isna()==True].index)"
   ]
  },
  {
   "cell_type": "code",
   "execution_count": 36,
   "id": "bdbf0cc7",
   "metadata": {},
   "outputs": [
    {
     "data": {
      "text/plain": [
       "0"
      ]
     },
     "execution_count": 36,
     "metadata": {},
     "output_type": "execute_result"
    }
   ],
   "source": [
    "df['population'].isna().sum()"
   ]
  },
  {
   "cell_type": "code",
   "execution_count": 7,
   "id": "82956fdf",
   "metadata": {},
   "outputs": [
    {
     "data": {
      "text/html": [
       "<div>\n",
       "<style scoped>\n",
       "    .dataframe tbody tr th:only-of-type {\n",
       "        vertical-align: middle;\n",
       "    }\n",
       "\n",
       "    .dataframe tbody tr th {\n",
       "        vertical-align: top;\n",
       "    }\n",
       "\n",
       "    .dataframe thead th {\n",
       "        text-align: right;\n",
       "    }\n",
       "</style>\n",
       "<table border=\"1\" class=\"dataframe\">\n",
       "  <thead>\n",
       "    <tr style=\"text-align: right;\">\n",
       "      <th></th>\n",
       "      <th>location</th>\n",
       "      <th>date</th>\n",
       "      <th>new_cases</th>\n",
       "      <th>new_deaths</th>\n",
       "      <th>population</th>\n",
       "      <th>aged_65_older_percent</th>\n",
       "      <th>gdp_per_capita</th>\n",
       "      <th>hospital_beds_per_thousand</th>\n",
       "    </tr>\n",
       "  </thead>\n",
       "  <tbody>\n",
       "    <tr>\n",
       "      <th>405</th>\n",
       "      <td>Andorra</td>\n",
       "      <td>2020-03-03</td>\n",
       "      <td>1</td>\n",
       "      <td>0</td>\n",
       "      <td>77265.0</td>\n",
       "      <td>NaN</td>\n",
       "      <td>NaN</td>\n",
       "      <td>NaN</td>\n",
       "    </tr>\n",
       "    <tr>\n",
       "      <th>406</th>\n",
       "      <td>Andorra</td>\n",
       "      <td>2020-03-14</td>\n",
       "      <td>1</td>\n",
       "      <td>0</td>\n",
       "      <td>77265.0</td>\n",
       "      <td>NaN</td>\n",
       "      <td>NaN</td>\n",
       "      <td>NaN</td>\n",
       "    </tr>\n",
       "    <tr>\n",
       "      <th>407</th>\n",
       "      <td>Andorra</td>\n",
       "      <td>2020-03-16</td>\n",
       "      <td>3</td>\n",
       "      <td>0</td>\n",
       "      <td>77265.0</td>\n",
       "      <td>NaN</td>\n",
       "      <td>NaN</td>\n",
       "      <td>NaN</td>\n",
       "    </tr>\n",
       "    <tr>\n",
       "      <th>408</th>\n",
       "      <td>Andorra</td>\n",
       "      <td>2020-03-17</td>\n",
       "      <td>9</td>\n",
       "      <td>0</td>\n",
       "      <td>77265.0</td>\n",
       "      <td>NaN</td>\n",
       "      <td>NaN</td>\n",
       "      <td>NaN</td>\n",
       "    </tr>\n",
       "    <tr>\n",
       "      <th>409</th>\n",
       "      <td>Andorra</td>\n",
       "      <td>2020-03-18</td>\n",
       "      <td>0</td>\n",
       "      <td>0</td>\n",
       "      <td>77265.0</td>\n",
       "      <td>NaN</td>\n",
       "      <td>NaN</td>\n",
       "      <td>NaN</td>\n",
       "    </tr>\n",
       "    <tr>\n",
       "      <th>...</th>\n",
       "      <td>...</td>\n",
       "      <td>...</td>\n",
       "      <td>...</td>\n",
       "      <td>...</td>\n",
       "      <td>...</td>\n",
       "      <td>...</td>\n",
       "      <td>...</td>\n",
       "      <td>...</td>\n",
       "    </tr>\n",
       "    <tr>\n",
       "      <th>22622</th>\n",
       "      <td>Western Sahara</td>\n",
       "      <td>2020-06-06</td>\n",
       "      <td>0</td>\n",
       "      <td>0</td>\n",
       "      <td>597330.0</td>\n",
       "      <td>NaN</td>\n",
       "      <td>NaN</td>\n",
       "      <td>NaN</td>\n",
       "    </tr>\n",
       "    <tr>\n",
       "      <th>22623</th>\n",
       "      <td>Western Sahara</td>\n",
       "      <td>2020-06-07</td>\n",
       "      <td>0</td>\n",
       "      <td>0</td>\n",
       "      <td>597330.0</td>\n",
       "      <td>NaN</td>\n",
       "      <td>NaN</td>\n",
       "      <td>NaN</td>\n",
       "    </tr>\n",
       "    <tr>\n",
       "      <th>22624</th>\n",
       "      <td>Western Sahara</td>\n",
       "      <td>2020-06-08</td>\n",
       "      <td>0</td>\n",
       "      <td>0</td>\n",
       "      <td>597330.0</td>\n",
       "      <td>NaN</td>\n",
       "      <td>NaN</td>\n",
       "      <td>NaN</td>\n",
       "    </tr>\n",
       "    <tr>\n",
       "      <th>22625</th>\n",
       "      <td>Western Sahara</td>\n",
       "      <td>2020-06-09</td>\n",
       "      <td>0</td>\n",
       "      <td>0</td>\n",
       "      <td>597330.0</td>\n",
       "      <td>NaN</td>\n",
       "      <td>NaN</td>\n",
       "      <td>NaN</td>\n",
       "    </tr>\n",
       "    <tr>\n",
       "      <th>22626</th>\n",
       "      <td>Western Sahara</td>\n",
       "      <td>2020-06-10</td>\n",
       "      <td>0</td>\n",
       "      <td>0</td>\n",
       "      <td>597330.0</td>\n",
       "      <td>NaN</td>\n",
       "      <td>NaN</td>\n",
       "      <td>NaN</td>\n",
       "    </tr>\n",
       "  </tbody>\n",
       "</table>\n",
       "<p>2307 rows × 8 columns</p>\n",
       "</div>"
      ],
      "text/plain": [
       "             location       date  new_cases  new_deaths  population  \\\n",
       "405           Andorra 2020-03-03          1           0     77265.0   \n",
       "406           Andorra 2020-03-14          1           0     77265.0   \n",
       "407           Andorra 2020-03-16          3           0     77265.0   \n",
       "408           Andorra 2020-03-17          9           0     77265.0   \n",
       "409           Andorra 2020-03-18          0           0     77265.0   \n",
       "...               ...        ...        ...         ...         ...   \n",
       "22622  Western Sahara 2020-06-06          0           0    597330.0   \n",
       "22623  Western Sahara 2020-06-07          0           0    597330.0   \n",
       "22624  Western Sahara 2020-06-08          0           0    597330.0   \n",
       "22625  Western Sahara 2020-06-09          0           0    597330.0   \n",
       "22626  Western Sahara 2020-06-10          0           0    597330.0   \n",
       "\n",
       "       aged_65_older_percent  gdp_per_capita  hospital_beds_per_thousand  \n",
       "405                      NaN             NaN                         NaN  \n",
       "406                      NaN             NaN                         NaN  \n",
       "407                      NaN             NaN                         NaN  \n",
       "408                      NaN             NaN                         NaN  \n",
       "409                      NaN             NaN                         NaN  \n",
       "...                      ...             ...                         ...  \n",
       "22622                    NaN             NaN                         NaN  \n",
       "22623                    NaN             NaN                         NaN  \n",
       "22624                    NaN             NaN                         NaN  \n",
       "22625                    NaN             NaN                         NaN  \n",
       "22626                    NaN             NaN                         NaN  \n",
       "\n",
       "[2307 rows x 8 columns]"
      ]
     },
     "execution_count": 7,
     "metadata": {},
     "output_type": "execute_result"
    }
   ],
   "source": [
    "df2=df[df['gdp_per_capita'].isna()==True]\n",
    "df2"
   ]
  },
  {
   "cell_type": "markdown",
   "id": "ea220b33",
   "metadata": {},
   "source": [
    "## we filled the countries of  null cells of gpd by excel"
   ]
  },
  {
   "cell_type": "code",
   "execution_count": 8,
   "id": "9c05fa77",
   "metadata": {},
   "outputs": [
    {
     "data": {
      "text/plain": [
       "array(['Andorra', 'Anguilla', 'Bonaire Sint Eustatius and Saba',\n",
       "       'British Virgin Islands', 'Cuba', 'Curacao', 'Faeroe Islands',\n",
       "       'Falkland Islands', 'French Polynesia', 'Gibraltar', 'Greenland',\n",
       "       'Guam', 'Guernsey', 'Isle of Man', 'Jersey', 'Liechtenstein',\n",
       "       'Monaco', 'Montserrat', 'New Caledonia',\n",
       "       'Northern Mariana Islands', 'Somalia', 'Syria', 'Taiwan',\n",
       "       'Turks and Caicos Islands', 'United States Virgin Islands',\n",
       "       'Vatican', 'Western Sahara'], dtype=object)"
      ]
     },
     "execution_count": 8,
     "metadata": {},
     "output_type": "execute_result"
    }
   ],
   "source": [
    "df2['location'].unique()"
   ]
  },
  {
   "cell_type": "code",
   "execution_count": 30,
   "id": "015c4ab8",
   "metadata": {},
   "outputs": [],
   "source": [
    "##df=df[df['location']==\"Andorra\" & df['gdp_per_capita'].isna()==True , df['gdp_per_capita'].fillna(2890.0)]"
   ]
  },
  {
   "cell_type": "code",
   "execution_count": 41,
   "id": "ec469cbf",
   "metadata": {},
   "outputs": [],
   "source": [
    "covid_report2_csv_data = df.to_csv('covid_report2.csv', index = True)"
   ]
  },
  {
   "cell_type": "code",
   "execution_count": null,
   "id": "e6c82dcf",
   "metadata": {},
   "outputs": [],
   "source": []
  }
 ],
 "metadata": {
  "kernelspec": {
   "display_name": "Python 3 (ipykernel)",
   "language": "python",
   "name": "python3"
  },
  "language_info": {
   "codemirror_mode": {
    "name": "ipython",
    "version": 3
   },
   "file_extension": ".py",
   "mimetype": "text/x-python",
   "name": "python",
   "nbconvert_exporter": "python",
   "pygments_lexer": "ipython3",
   "version": "3.11.4"
  }
 },
 "nbformat": 4,
 "nbformat_minor": 5
}
